{
 "cells": [
  {
   "cell_type": "code",
   "execution_count": 22,
   "metadata": {},
   "outputs": [],
   "source": [
    "import os\n",
    "from dotenv import load_dotenv\n",
    "import nest_asyncio\n",
    "nest_asyncio.apply()\n",
    "\n",
    "from llama_parse import LlamaParse\n",
    "load_dotenv()\n",
    "from io import StringIO"
   ]
  },
  {
   "cell_type": "code",
   "execution_count": 23,
   "metadata": {},
   "outputs": [],
   "source": [
    "os.environ['LLAMA_CLOUD_API_KEY'] = os.environ['key']"
   ]
  },
  {
   "cell_type": "code",
   "execution_count": 82,
   "metadata": {},
   "outputs": [
    {
     "name": "stdout",
     "output_type": "stream",
     "text": [
      "Started parsing the file under job_id 3dd3f77b-d2ca-4e18-8916-c719ce570473\n"
     ]
    }
   ],
   "source": [
    "documentos = LlamaParse(\n",
    "    result_type='markdown',\n",
    "    parsing_instruction='Este pdf contem tabelas com as colunas ITEM, PRODUTO, DESCRIÇÃO, QTD, UNIDADE, VALOR REF.Eu gostaria de obter as tabelas, use o separador | '\n",
    ").load_data('../teste.pdf')"
   ]
  },
  {
   "cell_type": "code",
   "execution_count": 83,
   "metadata": {},
   "outputs": [
    {
     "data": {
      "text/plain": [
       "list"
      ]
     },
     "execution_count": 83,
     "metadata": {},
     "output_type": "execute_result"
    }
   ],
   "source": [
    "type(documentos)"
   ]
  },
  {
   "cell_type": "code",
   "execution_count": 65,
   "metadata": {},
   "outputs": [
    {
     "name": "stdout",
     "output_type": "stream",
     "text": [
      "5\n"
     ]
    }
   ],
   "source": [
    "print(len(documentos))\n",
    "dicionario = documentos[1].to_json()"
   ]
  },
  {
   "cell_type": "code",
   "execution_count": 71,
   "metadata": {},
   "outputs": [
    {
     "data": {
      "text/plain": [
       "'|ITEM|PRODUTO|DESCRIÇÃO|QTD|UNIDADE|VALOR REF.|\\n|---|---|---|---|---|---|\\n|3|APONTADOR SIMPLES PARA LÁPIS|FORMATO RETANGULAR, COM LÂMINA DE AÇO FIXADA POR DOIS PARAFUSOS, CAIXA COM DOZE UNIDADES, SEM ONDULAÇÕES OU DEFORMAÇÕES, ALTA QUALIDADES E ANGULA, DE CORTE PRECISO|140|Caixas|4,99|\\n|4|ARGOLA METÁLICA COM CORRENTE|MATERIAL QUE NÃO ENFERRUJA, PACOTE COM 100 PEÇAS, ALTA RESISTENCIA, ULTILIZADA PARA CONFECÇÃO DE CHAVEIROS ARTESANAIS|50|Pacotes|78,60|\\n|5|BARBANTE 08 FIOS, 100% ALGODÃO, 200G|COR CRU, SEM IMPUREZAS NO FIO, ALTA RESISTENCIA, EMBALADOS INDIVIDUALMENTE, PACOTE EM PLÁTISCO TRANSPARENTE ULTILIZADO PARA ATIVIDADES ESCOLAR E ARTESANAL|250|Unidades|12,52|\\n|6|REFIL DE SILICONE, FINO, TRANSPARENTE|PARA REVÓLVER DE COLA QUENTE, COMPOSIÇÃO: ADESIVO A BASE DE RESINAS TERMOPLASTICAS HOT MET, ESTADO FÍSICO SÓLIDO, MEDINDO APROX. 300X70MM, EMBALAGEM DE 1KG|100|Embalagens|38,30|'"
      ]
     },
     "execution_count": 71,
     "metadata": {},
     "output_type": "execute_result"
    }
   ],
   "source": [
    "documentos[1].text"
   ]
  },
  {
   "cell_type": "code",
   "execution_count": 67,
   "metadata": {},
   "outputs": [
    {
     "name": "stdout",
     "output_type": "stream",
     "text": [
      "{\n",
      "    \"id_\": \"389742eb-3934-4e98-8380-e774f958fc1e\",\n",
      "    \"embedding\": null,\n",
      "    \"metadata\": {},\n",
      "    \"excluded_embed_metadata_keys\": [],\n",
      "    \"excluded_llm_metadata_keys\": [],\n",
      "    \"relationships\": {},\n",
      "    \"text\": \"|ITEM|PRODUTO|DESCRIÇÃO|QTD|UNIDADE|VALOR REF.|\\n|---|---|---|---|---|---|\\n|3|APONTADOR SIMPLES PARA LÁPIS|FORMATO RETANGULAR, COM LÂMINA DE AÇO FIXADA POR DOIS PARAFUSOS, CAIXA COM DOZE UNIDADES, SEM ONDULAÇÕES OU DEFORMAÇÕES, ALTA QUALIDADES E ANGULA, DE CORTE PRECISO|140|Caixas|4,99|\\n|4|ARGOLA METÁLICA COM CORRENTE|MATERIAL QUE NÃO ENFERRUJA, PACOTE COM 100 PEÇAS, ALTA RESISTENCIA, ULTILIZADA PARA CONFECÇÃO DE CHAVEIROS ARTESANAIS|50|Pacotes|78,60|\\n|5|BARBANTE 08 FIOS, 100% ALGODÃO, 200G|COR CRU, SEM IMPUREZAS NO FIO, ALTA RESISTENCIA, EMBALADOS INDIVIDUALMENTE, PACOTE EM PLÁTISCO TRANSPARENTE ULTILIZADO PARA ATIVIDADES ESCOLAR E ARTESANAL|250|Unidades|12,52|\\n|6|REFIL DE SILICONE, FINO, TRANSPARENTE|PARA REVÓLVER DE COLA QUENTE, COMPOSIÇÃO: ADESIVO A BASE DE RESINAS TERMOPLASTICAS HOT MET, ESTADO FÍSICO SÓLIDO, MEDINDO APROX. 300X70MM, EMBALAGEM DE 1KG|100|Embalagens|38,30|\",\n",
      "    \"mimetype\": \"text/plain\",\n",
      "    \"start_char_idx\": null,\n",
      "    \"end_char_idx\": null,\n",
      "    \"text_template\": \"{metadata_str}\\n\\n{content}\",\n",
      "    \"metadata_template\": \"{key}: {value}\",\n",
      "    \"metadata_seperator\": \"\\n\",\n",
      "    \"class_name\": \"Document\"\n",
      "}\n"
     ]
    }
   ],
   "source": [
    "import json #\n",
    "#  Convertendo para dicionário\n",
    "documento_dict = json.loads(dicionario)\n",
    "\n",
    "# Exibindo o dicionário formatado\n",
    "print(json.dumps(documento_dict, indent=4, ensure_ascii=False))"
   ]
  },
  {
   "cell_type": "code",
   "execution_count": 66,
   "metadata": {},
   "outputs": [
    {
     "data": {
      "text/plain": [
       "str"
      ]
     },
     "execution_count": 66,
     "metadata": {},
     "output_type": "execute_result"
    }
   ],
   "source": [
    "type(dicionario)"
   ]
  },
  {
   "cell_type": "code",
   "execution_count": 64,
   "metadata": {},
   "outputs": [
    {
     "name": "stdout",
     "output_type": "stream",
     "text": [
      "{\"id_\": \"389742eb-3934-4e98-8380-e774f958fc1e\", \"embedding\": null, \"metadata\": {}, \"excluded_embed_metadata_keys\": [], \"excluded_llm_metadata_keys\": [], \"relationships\": {}, \"text\": \"|ITEM|PRODUTO|DESCRI\\u00c7\\u00c3O|QTD|UNIDADE|VALOR REF.|\\n|---|---|---|---|---|---|\\n|3|APONTADOR SIMPLES PARA L\\u00c1PIS|FORMATO RETANGULAR, COM L\\u00c2MINA DE A\\u00c7O FIXADA POR DOIS PARAFUSOS, CAIXA COM DOZE UNIDADES, SEM ONDULA\\u00c7\\u00d5ES OU DEFORMA\\u00c7\\u00d5ES, ALTA QUALIDADES E ANGULA, DE CORTE PRECISO|140|Caixas|4,99|\\n|4|ARGOLA MET\\u00c1LICA COM CORRENTE|MATERIAL QUE N\\u00c3O ENFERRUJA, PACOTE COM 100 PE\\u00c7AS, ALTA RESISTENCIA, ULTILIZADA PARA CONFEC\\u00c7\\u00c3O DE CHAVEIROS ARTESANAIS|50|Pacotes|78,60|\\n|5|BARBANTE 08 FIOS, 100% ALGOD\\u00c3O, 200G|COR CRU, SEM IMPUREZAS NO FIO, ALTA RESISTENCIA, EMBALADOS INDIVIDUALMENTE, PACOTE EM PL\\u00c1TISCO TRANSPARENTE ULTILIZADO PARA ATIVIDADES ESCOLAR E ARTESANAL|250|Unidades|12,52|\\n|6|REFIL DE SILICONE, FINO, TRANSPARENTE|PARA REV\\u00d3LVER DE COLA QUENTE, COMPOSI\\u00c7\\u00c3O: ADESIVO A BASE DE RESINAS TERMOPLASTICAS HOT MET, ESTADO F\\u00cdSICO S\\u00d3LIDO, MEDINDO APROX. 300X70MM, EMBALAGEM DE 1KG|100|Embalagens|38,30|\", \"mimetype\": \"text/plain\", \"start_char_idx\": null, \"end_char_idx\": null, \"text_template\": \"{metadata_str}\\n\\n{content}\", \"metadata_template\": \"{key}: {value}\", \"metadata_seperator\": \"\\n\", \"class_name\": \"Document\"}\n"
     ]
    }
   ],
   "source": [
    "print(documentos[1].to_json())"
   ]
  },
  {
   "cell_type": "code",
   "execution_count": 81,
   "metadata": {},
   "outputs": [
    {
     "name": "stdout",
     "output_type": "stream",
     "text": [
      "\n",
      "ITEM\n",
      "PRODUTO\n",
      "DESCRIÇÃO\n",
      "QTD\n",
      "UNIDADE\n",
      "VALOR REF.\n",
      "\n",
      "\n",
      "---\n",
      "---\n",
      "---\n",
      "---\n",
      "---\n",
      "---\n",
      "\n",
      "\n",
      "1\n",
      "APAGADOR DE MADEIRA\n",
      "APAGADOR DE MADEIRA, 150X50MM, PINUS; MEDINDO (150 COM. X 50 LARG.) MM , COM TOLERÂNCIA +/- 10% ; COM BASE DE FELTRO; NO FORMATO RETANGULAR.\n",
      "118\n",
      "Unidades\n",
      "3,75\n",
      "\n",
      "\n",
      "2\n",
      "APAGADOR PARA QUADRO BRANCO\n",
      "APAGADOR PARA QUADRO BRANCO, 15X6CM, PLÁSTICO REFORÇADO, COM BASE EM FELTRO SUPER MACIO E RESISTENTE, FUNCIONA\n",
      "8\n",
      "Unidades\n",
      "3,91\n",
      "\n",
      "\n",
      "ITEM\n",
      "PRODUTO\n",
      "DESCRIÇÃO\n",
      "QTD\n",
      "UNIDADE\n",
      "VALOR REF.\n",
      "\n",
      "\n",
      "---\n",
      "---\n",
      "---\n",
      "---\n",
      "---\n",
      "---\n",
      "\n",
      "\n",
      "3\n",
      "APONTADOR SIMPLES PARA LÁPIS\n",
      "FORMATO RETANGULAR, COM LÂMINA DE AÇO FIXADA POR DOIS PARAFUSOS, CAIXA COM DOZE UNIDADES, SEM ONDULAÇÕES OU DEFORMAÇÕES, ALTA QUALIDADES E ANGULA, DE CORTE PRECISO\n",
      "140\n",
      "Caixas\n",
      "4,99\n",
      "\n",
      "\n",
      "4\n",
      "ARGOLA METÁLICA COM CORRENTE\n",
      "MATERIAL QUE NÃO ENFERRUJA, PACOTE COM 100 PEÇAS, ALTA RESISTENCIA, ULTILIZADA PARA CONFECÇÃO DE CHAVEIROS ARTESANAIS\n",
      "50\n",
      "Pacotes\n",
      "78,60\n",
      "\n",
      "\n",
      "5\n",
      "BARBANTE 08 FIOS, 100% ALGODÃO, 200G\n",
      "COR CRU, SEM IMPUREZAS NO FIO, ALTA RESISTENCIA, EMBALADOS INDIVIDUALMENTE, PACOTE EM PLÁTISCO TRANSPARENTE ULTILIZADO PARA ATIVIDADES ESCOLAR E ARTESANAL\n",
      "250\n",
      "Unidades\n",
      "12,52\n",
      "\n",
      "\n",
      "6\n",
      "REFIL DE SILICONE, FINO, TRANSPARENTE\n",
      "PARA REVÓLVER DE COLA QUENTE, COMPOSIÇÃO: ADESIVO A BASE DE RESINAS TERMOPLASTICAS HOT MET, ESTADO FÍSICO SÓLIDO, MEDINDO APROX. 300X70MM, EMBALAGEM DE 1KG\n",
      "100\n",
      "Embalagens\n",
      "38,30\n",
      "\n",
      "\n",
      "ITEM\n",
      "PRODUTO\n",
      "DESCRIÇÃO\n",
      "QTD\n",
      "UNIDADE\n",
      "VALOR REF.\n",
      "\n",
      "\n",
      "---\n",
      "---\n",
      "---\n",
      "---\n",
      "---\n",
      "---\n",
      "\n",
      "\n",
      "7\n",
      "REFIL DE SILICONE GROSSO TRANSPARENTE\n",
      "PARA REVOLVER DE COLA QUENTE, COMPOSIÇÃO: ADESIVO A BASE DE RESINAS TERMOPLÁSTICAS HOT MET, ESTADO FÍSICO SÓLIDO, MEDINDO APROXIMADAMENTE 300X12MM. UTILIZADO PARA ATIVIDADES ESCOLAR E ARTESANAL, EMBALAGEM DE 1KG\n",
      "1000 Unidades\n",
      "38,30\n",
      " \n",
      "\n",
      "\n",
      "8\n",
      "BEXIGA COLORIDA NÚMERO SETE\n",
      "PACOTE COM CINQUENTA UNIDADES, LATEX DE ALTA RESISTÊNCIA, SEM DEFORMIDADES, E QUE NÃO ESTEJAM COLADAS UMA A OUTRA, EVITANDO ASSIM O ESTOURO AO ENCHER - CORES VERMELHA, AMARELA, VERDE, AZUL, BRANCA\n",
      "126 Pacotes\n",
      "8,62\n",
      " \n",
      "\n",
      "\n",
      "9\n",
      "PAPEL DESENHO A4\n",
      "FORMATO: 210 MM X 297 MM, 140G/M², COR BRANCO, BLOCO COM 20 FOLHAS UTILIZADO PARA TRABALHOS MANUAIS, ARTÍSTICOS, GEOMÉTRICOS E IMPRESSÕES\n",
      "30 Blocos\n",
      "5,34\n",
      " \n",
      "\n",
      "\n",
      "10\n",
      "BORRACHA BRANCA\n",
      "BORRACHA ESCOLAR, PARA APAGAR\n",
      "1000 Caixas\n",
      "11,26\n",
      " \n",
      "\n",
      "\n",
      "ITEM\n",
      "PRODUTO\n",
      "DESCRIÇÃO\n",
      "QTD\n",
      "UNIDADE\n",
      "VALOR REF.\n",
      "\n",
      "\n",
      "---\n",
      "---\n",
      "---\n",
      "---\n",
      "---\n",
      "---\n",
      "\n",
      "\n",
      "11\n",
      "LÁPIS E GRAFITE\n",
      "LÁPIS E GRAFITE, MACIA, ATÓXICA, NÃO BORRA E NEM ESFARELA, NO FORMATO RETANGULAR, TAMANHO 40, CAIXA COM 40 UND, 32X22X08MM, COMPOSIÇÃO LÁTEX NATURAL, BORRACHA SINTÉTICA, CAIXA COM QUARENTA UNIDADES, ESTIRENO BUTADIENO, ABRASIVOS E AGENTES DE VULCANIZAÇÃO. DIMENSÕES APROXIMADAS: 32X22X08 MM (C x A x L). VALIDADE NÃO INFERIOR A 11 MESES, PRODUTO CERTIFICADO JUNTO AO INMETRO.\n",
      "550\n",
      "Unidades\n",
      "8,04\n",
      "\n",
      "\n",
      "12\n",
      "CADERNO PEDAGÓGICO QUADRICULADO\n",
      "CADERNO PEDAGÓGICO QUADRICULADO, 10X10MM, 40 FOLHAS, FORMATO 140X200MM, MIOLO 2X2, CAPA FLEXÍVEL, GR/M² 56 MÍNIMA, COM CERTIFICAÇÃO FSC OU CELFLOR (SELO CORRESPONDENTE AO PAPEL DO MIOLO) E CERTIFICAÇÃO NBR 15733:2012 - SEGURANÇA DE ARTIGOS ESCOLARES, IMPRESSA NA PARTE EXTERNA DA CAPA OU CONTRA CAPA.\n",
      "200\n",
      "Pacotes\n",
      "58,37\n",
      "\n",
      "\n",
      "ITEM\n",
      "PRODUTO\n",
      "DESCRIÇÃO\n",
      "QTD\n",
      "UNIDADE\n",
      "VALOR REF.\n",
      "\n",
      "\n",
      "---\n",
      "---\n",
      "---\n",
      "---\n",
      "---\n",
      "---\n",
      "\n",
      "\n",
      "13\n",
      "CADERNO CARTOGRAFIA E DESENHO FLEXÍVEL\n",
      "48 FOLHAS, FORMATO 275X200MM, GR/M² 56 MÍNIMA, COM CERTIFICAÇÃO FSC OU CELFLOR ( SELO CORRESPONDENTE AO PAPEL DO MIOLO) E CERTIFICAÇÃO NBR 15733:2012 - SEGURANÇA DE ARTIGOS ESCOLARES, IMPRESSA NA PARTE EXTERNA DA CAPA OU CONTRA CAPA.\n",
      "500\n",
      "Unidades\n",
      "7,24\n",
      "\n",
      "\n",
      "14\n",
      "CADERNO PEDAGÓGICO CALIGRAFIA HORIZONTAL\n",
      "FORMATO 200X140 MM, MIOLO 2X2, 40 FOLHAS, CAPA FLEXÍVEL, GR/M² 56 MÍNIMA, COM CERTIFICAÇÃO FSC OU CELFLOR ( SELO CORRESPONDENTE AO PAPEL DO MIOLO) E CERTIFICAÇÃO NBR 15733:2012 - SEGURANÇA DE ARTIGOS ESCOLARES\n",
      "300\n",
      "Unidades\n",
      "5,88\n",
      "\n"
     ]
    }
   ],
   "source": [
    "for documento in documentos:\n",
    "   \n",
    "    for linha in documento.text.split('|'):\n",
    "        colunas = linha.split('|')\n",
    "        for col in colunas:\n",
    "            print(col)\n",
    "            if col."
   ]
  },
  {
   "cell_type": "code",
   "execution_count": 38,
   "metadata": {},
   "outputs": [],
   "source": [
    "texto_exemplo = documentos[4].text"
   ]
  },
  {
   "cell_type": "code",
   "execution_count": 39,
   "metadata": {},
   "outputs": [
    {
     "name": "stdout",
     "output_type": "stream",
     "text": [
      "|ITEM|PRODUTO|DESCRIÇÃO|QTD|UNIDADE|VALOR REF.|\n",
      "|---|---|---|---|---|---|\n",
      "|13|CADERNO CARTOGRAFIA E DESENHO FLEXÍVEL|48 FOLHAS, FORMATO 275X200MM, GR/M² 56 MÍNIMA, COM CERTIFICAÇÃO FSC OU CELFLOR ( SELO CORRESPONDENTE AO PAPEL DO MIOLO) E CERTIFICAÇÃO NBR 15733:2012 - SEGURANÇA DE ARTIGOS ESCOLARES, IMPRESSA NA PARTE EXTERNA DA CAPA OU CONTRA CAPA.|500|Unidades|7,24|\n",
      "|14|CADERNO PEDAGÓGICO CALIGRAFIA HORIZONTAL|FORMATO 200X140 MM, MIOLO 2X2, 40 FOLHAS, CAPA FLEXÍVEL, GR/M² 56 MÍNIMA, COM CERTIFICAÇÃO FSC OU CELFLOR ( SELO CORRESPONDENTE AO PAPEL DO MIOLO) E CERTIFICAÇÃO NBR 15733:2012 - SEGURANÇA DE ARTIGOS ESCOLARES|300|Unidades|5,88|\n"
     ]
    }
   ],
   "source": [
    "print(texto_exemplo)"
   ]
  },
  {
   "cell_type": "code",
   "execution_count": 40,
   "metadata": {},
   "outputs": [
    {
     "data": {
      "text/plain": [
       "str"
      ]
     },
     "execution_count": 40,
     "metadata": {},
     "output_type": "execute_result"
    }
   ],
   "source": [
    "type(texto_exemplo)"
   ]
  },
  {
   "cell_type": "code",
   "execution_count": 55,
   "metadata": {},
   "outputs": [
    {
     "name": "stdout",
     "output_type": "stream",
     "text": [
      "|ITEM|PRODUTO|DESCRIÇÃO|QTD|UNIDADE|VALOR REF.|\n",
      "|---|---|---|---|---|---|\n",
      "|1|APAGADOR DE MADEIRA|APAGADOR DE MADEIRA, 150X50MM, PINUS; MEDINDO (150 COM. X 50 LARG.) MM , COM TOLERÂNCIA +/- 10% ; COM BASE DE FELTRO; NO FORMATO RETANGULAR.|118|Unidades|3,75|\n",
      "|2|APAGADOR PARA QUADRO BRANCO|APAGADOR PARA QUADRO BRANCO, 15X6CM, PLÁSTICO REFORÇADO, COM BASE EM FELTRO SUPER MACIO E RESISTENTE, FUNCIONA|8|Unidades|3,91|\n",
      "{'id_': '511380e7-d0aa-4930-8a90-e03e50fc31b9', 'embedding': None, 'metadata': {}, 'excluded_embed_metadata_keys': [], 'excluded_llm_metadata_keys': [], 'relationships': {}, 'text': '|ITEM|PRODUTO|DESCRIÇÃO|QTD|UNIDADE|VALOR REF.|\\n|---|---|---|---|---|---|\\n|1|APAGADOR DE MADEIRA|APAGADOR DE MADEIRA, 150X50MM, PINUS; MEDINDO (150 COM. X 50 LARG.) MM , COM TOLERÂNCIA +/- 10% ; COM BASE DE FELTRO; NO FORMATO RETANGULAR.|118|Unidades|3,75|\\n|2|APAGADOR PARA QUADRO BRANCO|APAGADOR PARA QUADRO BRANCO, 15X6CM, PLÁSTICO REFORÇADO, COM BASE EM FELTRO SUPER MACIO E RESISTENTE, FUNCIONA|8|Unidades|3,91|', 'mimetype': 'text/plain', 'start_char_idx': None, 'end_char_idx': None, 'text_template': '{metadata_str}\\n\\n{content}', 'metadata_template': '{key}: {value}', 'metadata_seperator': '\\n', 'class_name': 'Document'}\n",
      "|ITEM|PRODUTO|DESCRIÇÃO|QTD|UNIDADE|VALOR REF.|\n",
      "|---|---|---|---|---|---|\n",
      "|3|APONTADOR SIMPLES PARA LÁPIS|FORMATO RETANGULAR, COM LÂMINA DE AÇO FIXADA POR DOIS PARAFUSOS, CAIXA COM DOZE UNIDADES, SEM ONDULAÇÕES OU DEFORMAÇÕES, ALTA QUALIDADES E ANGULA, DE CORTE PRECISO|140|Caixas|4,99|\n",
      "|4|ARGOLA METÁLICA COM CORRENTE|MATERIAL QUE NÃO ENFERRUJA, PACOTE COM 100 PEÇAS, ALTA RESISTENCIA, ULTILIZADA PARA CONFECÇÃO DE CHAVEIROS ARTESANAIS|50|Pacotes|78,60|\n",
      "|5|BARBANTE 08 FIOS, 100% ALGODÃO, 200G|COR CRU, SEM IMPUREZAS NO FIO, ALTA RESISTENCIA, EMBALADOS INDIVIDUALMENTE, PACOTE EM PLÁTISCO TRANSPARENTE ULTILIZADO PARA ATIVIDADES ESCOLAR E ARTESANAL|250|Unidades|12,52|\n",
      "|6|REFIL DE SILICONE, FINO, TRANSPARENTE|PARA REVÓLVER DE COLA QUENTE, COMPOSIÇÃO: ADESIVO A BASE DE RESINAS TERMOPLASTICAS HOT MET, ESTADO FÍSICO SÓLIDO, MEDINDO APROX. 300X70MM, EMBALAGEM DE 1KG|100|Embalagens|38,30|\n",
      "{'id_': '389742eb-3934-4e98-8380-e774f958fc1e', 'embedding': None, 'metadata': {}, 'excluded_embed_metadata_keys': [], 'excluded_llm_metadata_keys': [], 'relationships': {}, 'text': '|ITEM|PRODUTO|DESCRIÇÃO|QTD|UNIDADE|VALOR REF.|\\n|---|---|---|---|---|---|\\n|3|APONTADOR SIMPLES PARA LÁPIS|FORMATO RETANGULAR, COM LÂMINA DE AÇO FIXADA POR DOIS PARAFUSOS, CAIXA COM DOZE UNIDADES, SEM ONDULAÇÕES OU DEFORMAÇÕES, ALTA QUALIDADES E ANGULA, DE CORTE PRECISO|140|Caixas|4,99|\\n|4|ARGOLA METÁLICA COM CORRENTE|MATERIAL QUE NÃO ENFERRUJA, PACOTE COM 100 PEÇAS, ALTA RESISTENCIA, ULTILIZADA PARA CONFECÇÃO DE CHAVEIROS ARTESANAIS|50|Pacotes|78,60|\\n|5|BARBANTE 08 FIOS, 100% ALGODÃO, 200G|COR CRU, SEM IMPUREZAS NO FIO, ALTA RESISTENCIA, EMBALADOS INDIVIDUALMENTE, PACOTE EM PLÁTISCO TRANSPARENTE ULTILIZADO PARA ATIVIDADES ESCOLAR E ARTESANAL|250|Unidades|12,52|\\n|6|REFIL DE SILICONE, FINO, TRANSPARENTE|PARA REVÓLVER DE COLA QUENTE, COMPOSIÇÃO: ADESIVO A BASE DE RESINAS TERMOPLASTICAS HOT MET, ESTADO FÍSICO SÓLIDO, MEDINDO APROX. 300X70MM, EMBALAGEM DE 1KG|100|Embalagens|38,30|', 'mimetype': 'text/plain', 'start_char_idx': None, 'end_char_idx': None, 'text_template': '{metadata_str}\\n\\n{content}', 'metadata_template': '{key}: {value}', 'metadata_seperator': '\\n', 'class_name': 'Document'}\n",
      "|ITEM|PRODUTO|DESCRIÇÃO|QTD|UNIDADE|VALOR REF.|\n",
      "|---|---|---|---|---|---|\n",
      "|7|REFIL DE SILICONE GROSSO TRANSPARENTE|PARA REVOLVER DE COLA QUENTE, COMPOSIÇÃO: ADESIVO A BASE DE RESINAS TERMOPLÁSTICAS HOT MET, ESTADO FÍSICO SÓLIDO, MEDINDO APROXIMADAMENTE 300X12MM. UTILIZADO PARA ATIVIDADES ESCOLAR E ARTESANAL, EMBALAGEM DE 1KG|1000 Unidades|38,30| |\n",
      "|8|BEXIGA COLORIDA NÚMERO SETE|PACOTE COM CINQUENTA UNIDADES, LATEX DE ALTA RESISTÊNCIA, SEM DEFORMIDADES, E QUE NÃO ESTEJAM COLADAS UMA A OUTRA, EVITANDO ASSIM O ESTOURO AO ENCHER - CORES VERMELHA, AMARELA, VERDE, AZUL, BRANCA|126 Pacotes|8,62| |\n",
      "|9|PAPEL DESENHO A4|FORMATO: 210 MM X 297 MM, 140G/M², COR BRANCO, BLOCO COM 20 FOLHAS UTILIZADO PARA TRABALHOS MANUAIS, ARTÍSTICOS, GEOMÉTRICOS E IMPRESSÕES|30 Blocos|5,34| |\n",
      "|10|BORRACHA BRANCA|BORRACHA ESCOLAR, PARA APAGAR|1000 Caixas|11,26| |\n",
      "{'id_': '31d186f1-acba-442e-add5-1a02d8f7cd35', 'embedding': None, 'metadata': {}, 'excluded_embed_metadata_keys': [], 'excluded_llm_metadata_keys': [], 'relationships': {}, 'text': '|ITEM|PRODUTO|DESCRIÇÃO|QTD|UNIDADE|VALOR REF.|\\n|---|---|---|---|---|---|\\n|7|REFIL DE SILICONE GROSSO TRANSPARENTE|PARA REVOLVER DE COLA QUENTE, COMPOSIÇÃO: ADESIVO A BASE DE RESINAS TERMOPLÁSTICAS HOT MET, ESTADO FÍSICO SÓLIDO, MEDINDO APROXIMADAMENTE 300X12MM. UTILIZADO PARA ATIVIDADES ESCOLAR E ARTESANAL, EMBALAGEM DE 1KG|1000 Unidades|38,30| |\\n|8|BEXIGA COLORIDA NÚMERO SETE|PACOTE COM CINQUENTA UNIDADES, LATEX DE ALTA RESISTÊNCIA, SEM DEFORMIDADES, E QUE NÃO ESTEJAM COLADAS UMA A OUTRA, EVITANDO ASSIM O ESTOURO AO ENCHER - CORES VERMELHA, AMARELA, VERDE, AZUL, BRANCA|126 Pacotes|8,62| |\\n|9|PAPEL DESENHO A4|FORMATO: 210 MM X 297 MM, 140G/M², COR BRANCO, BLOCO COM 20 FOLHAS UTILIZADO PARA TRABALHOS MANUAIS, ARTÍSTICOS, GEOMÉTRICOS E IMPRESSÕES|30 Blocos|5,34| |\\n|10|BORRACHA BRANCA|BORRACHA ESCOLAR, PARA APAGAR|1000 Caixas|11,26| |', 'mimetype': 'text/plain', 'start_char_idx': None, 'end_char_idx': None, 'text_template': '{metadata_str}\\n\\n{content}', 'metadata_template': '{key}: {value}', 'metadata_seperator': '\\n', 'class_name': 'Document'}\n",
      "|ITEM|PRODUTO|DESCRIÇÃO|QTD|UNIDADE|VALOR REF.|\n",
      "|---|---|---|---|---|---|\n",
      "|11|LÁPIS E GRAFITE|LÁPIS E GRAFITE, MACIA, ATÓXICA, NÃO BORRA E NEM ESFARELA, NO FORMATO RETANGULAR, TAMANHO 40, CAIXA COM 40 UND, 32X22X08MM, COMPOSIÇÃO LÁTEX NATURAL, BORRACHA SINTÉTICA, CAIXA COM QUARENTA UNIDADES, ESTIRENO BUTADIENO, ABRASIVOS E AGENTES DE VULCANIZAÇÃO. DIMENSÕES APROXIMADAS: 32X22X08 MM (C x A x L). VALIDADE NÃO INFERIOR A 11 MESES, PRODUTO CERTIFICADO JUNTO AO INMETRO.|550|Unidades|8,04|\n",
      "|12|CADERNO PEDAGÓGICO QUADRICULADO|CADERNO PEDAGÓGICO QUADRICULADO, 10X10MM, 40 FOLHAS, FORMATO 140X200MM, MIOLO 2X2, CAPA FLEXÍVEL, GR/M² 56 MÍNIMA, COM CERTIFICAÇÃO FSC OU CELFLOR (SELO CORRESPONDENTE AO PAPEL DO MIOLO) E CERTIFICAÇÃO NBR 15733:2012 - SEGURANÇA DE ARTIGOS ESCOLARES, IMPRESSA NA PARTE EXTERNA DA CAPA OU CONTRA CAPA.|200|Pacotes|58,37|\n",
      "{'id_': '73fea0a0-eb7d-4bc0-a728-2bd681a46ece', 'embedding': None, 'metadata': {}, 'excluded_embed_metadata_keys': [], 'excluded_llm_metadata_keys': [], 'relationships': {}, 'text': '|ITEM|PRODUTO|DESCRIÇÃO|QTD|UNIDADE|VALOR REF.|\\n|---|---|---|---|---|---|\\n|11|LÁPIS E GRAFITE|LÁPIS E GRAFITE, MACIA, ATÓXICA, NÃO BORRA E NEM ESFARELA, NO FORMATO RETANGULAR, TAMANHO 40, CAIXA COM 40 UND, 32X22X08MM, COMPOSIÇÃO LÁTEX NATURAL, BORRACHA SINTÉTICA, CAIXA COM QUARENTA UNIDADES, ESTIRENO BUTADIENO, ABRASIVOS E AGENTES DE VULCANIZAÇÃO. DIMENSÕES APROXIMADAS: 32X22X08 MM (C x A x L). VALIDADE NÃO INFERIOR A 11 MESES, PRODUTO CERTIFICADO JUNTO AO INMETRO.|550|Unidades|8,04|\\n|12|CADERNO PEDAGÓGICO QUADRICULADO|CADERNO PEDAGÓGICO QUADRICULADO, 10X10MM, 40 FOLHAS, FORMATO 140X200MM, MIOLO 2X2, CAPA FLEXÍVEL, GR/M² 56 MÍNIMA, COM CERTIFICAÇÃO FSC OU CELFLOR (SELO CORRESPONDENTE AO PAPEL DO MIOLO) E CERTIFICAÇÃO NBR 15733:2012 - SEGURANÇA DE ARTIGOS ESCOLARES, IMPRESSA NA PARTE EXTERNA DA CAPA OU CONTRA CAPA.|200|Pacotes|58,37|', 'mimetype': 'text/plain', 'start_char_idx': None, 'end_char_idx': None, 'text_template': '{metadata_str}\\n\\n{content}', 'metadata_template': '{key}: {value}', 'metadata_seperator': '\\n', 'class_name': 'Document'}\n",
      "|ITEM|PRODUTO|DESCRIÇÃO|QTD|UNIDADE|VALOR REF.|\n",
      "|---|---|---|---|---|---|\n",
      "|13|CADERNO CARTOGRAFIA E DESENHO FLEXÍVEL|48 FOLHAS, FORMATO 275X200MM, GR/M² 56 MÍNIMA, COM CERTIFICAÇÃO FSC OU CELFLOR ( SELO CORRESPONDENTE AO PAPEL DO MIOLO) E CERTIFICAÇÃO NBR 15733:2012 - SEGURANÇA DE ARTIGOS ESCOLARES, IMPRESSA NA PARTE EXTERNA DA CAPA OU CONTRA CAPA.|500|Unidades|7,24|\n",
      "|14|CADERNO PEDAGÓGICO CALIGRAFIA HORIZONTAL|FORMATO 200X140 MM, MIOLO 2X2, 40 FOLHAS, CAPA FLEXÍVEL, GR/M² 56 MÍNIMA, COM CERTIFICAÇÃO FSC OU CELFLOR ( SELO CORRESPONDENTE AO PAPEL DO MIOLO) E CERTIFICAÇÃO NBR 15733:2012 - SEGURANÇA DE ARTIGOS ESCOLARES|300|Unidades|5,88|\n",
      "{'id_': 'abcc253d-ff92-4401-b43c-78ebdbb4a185', 'embedding': None, 'metadata': {}, 'excluded_embed_metadata_keys': [], 'excluded_llm_metadata_keys': [], 'relationships': {}, 'text': '|ITEM|PRODUTO|DESCRIÇÃO|QTD|UNIDADE|VALOR REF.|\\n|---|---|---|---|---|---|\\n|13|CADERNO CARTOGRAFIA E DESENHO FLEXÍVEL|48 FOLHAS, FORMATO 275X200MM, GR/M² 56 MÍNIMA, COM CERTIFICAÇÃO FSC OU CELFLOR ( SELO CORRESPONDENTE AO PAPEL DO MIOLO) E CERTIFICAÇÃO NBR 15733:2012 - SEGURANÇA DE ARTIGOS ESCOLARES, IMPRESSA NA PARTE EXTERNA DA CAPA OU CONTRA CAPA.|500|Unidades|7,24|\\n|14|CADERNO PEDAGÓGICO CALIGRAFIA HORIZONTAL|FORMATO 200X140 MM, MIOLO 2X2, 40 FOLHAS, CAPA FLEXÍVEL, GR/M² 56 MÍNIMA, COM CERTIFICAÇÃO FSC OU CELFLOR ( SELO CORRESPONDENTE AO PAPEL DO MIOLO) E CERTIFICAÇÃO NBR 15733:2012 - SEGURANÇA DE ARTIGOS ESCOLARES|300|Unidades|5,88|', 'mimetype': 'text/plain', 'start_char_idx': None, 'end_char_idx': None, 'text_template': '{metadata_str}\\n\\n{content}', 'metadata_template': '{key}: {value}', 'metadata_seperator': '\\n', 'class_name': 'Document'}\n"
     ]
    }
   ],
   "source": [
    "for tabela in documentos:  # Assumindo que `documentos` é uma lista de tabelas\n",
    "    print(tabela.text)\n",
    "    print(tabela.dict())"
   ]
  }
 ],
 "metadata": {
  "kernelspec": {
   "display_name": "venv",
   "language": "python",
   "name": "python3"
  },
  "language_info": {
   "codemirror_mode": {
    "name": "ipython",
    "version": 3
   },
   "file_extension": ".py",
   "mimetype": "text/x-python",
   "name": "python",
   "nbconvert_exporter": "python",
   "pygments_lexer": "ipython3",
   "version": "3.10.14"
  }
 },
 "nbformat": 4,
 "nbformat_minor": 2
}
