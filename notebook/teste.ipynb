{
 "cells": [
  {
   "cell_type": "code",
   "execution_count": 22,
   "metadata": {},
   "outputs": [],
   "source": [
    "import os\n",
    "from dotenv import load_dotenv\n",
    "import nest_asyncio\n",
    "nest_asyncio.apply()\n",
    "\n",
    "from llama_parse import LlamaParse\n",
    "load_dotenv()\n",
    "from io import StringIO"
   ]
  },
  {
   "cell_type": "code",
   "execution_count": 23,
   "metadata": {},
   "outputs": [],
   "source": [
    "os.environ['LLAMA_CLOUD_API_KEY'] = os.environ['key']"
   ]
  },
  {
   "cell_type": "code",
   "execution_count": 28,
   "metadata": {},
   "outputs": [
    {
     "name": "stdout",
     "output_type": "stream",
     "text": [
      "Started parsing the file under job_id 19f2f839-b528-4cc5-8fe7-4114244bf596\n"
     ]
    }
   ],
   "source": [
    "documentos = LlamaParse(\n",
    "    result_type='markdown',\n",
    "    parsing_instruction='Este pdf contem tabelas com as colunas ITEM, PRODUTO, DESCRIÇÃO, QTD, UNIDADE, VALOR REF.Eu gostaria de obter as tabelas, use o separador | '\n",
    ").load_data('../teste.pdf')"
   ]
  },
  {
   "cell_type": "code",
   "execution_count": 29,
   "metadata": {},
   "outputs": [
    {
     "name": "stdout",
     "output_type": "stream",
     "text": [
      "5\n"
     ]
    }
   ],
   "source": [
    "print(len(documentos))\n"
   ]
  },
  {
   "cell_type": "code",
   "execution_count": 41,
   "metadata": {},
   "outputs": [
    {
     "name": "stdout",
     "output_type": "stream",
     "text": [
      "|ITEM|PRODUTO|DESCRIÇÃO|QTD|UNIDADE|VALOR REF.|\n",
      "|---|---|---|---|---|---|\n",
      "|1|APAGADOR DE MADEIRA|APAGADOR DE MADEIRA, 150X50MM, PINUS; MEDINDO (150 COM. X 50 LARG.) MM , COM TOLERÂNCIA +/- 10% ; COM BASE DE FELTRO; NO FORMATO RETANGULAR.|118|Unidades|3,75|\n",
      "|2|APAGADOR PARA QUADRO BRANCO|APAGADOR PARA QUADRO BRANCO, 15X6CM, PLÁSTICO REFORÇADO, COM BASE EM FELTRO SUPER MACIO E RESISTENTE, FUNCIONA|8|Unidades|3,91|\n",
      "\n",
      "|ITEM|PRODUTO|DESCRIÇÃO|QTD|UNIDADE|VALOR REF.|\n",
      "|---|---|---|---|---|---|\n",
      "|3|APONTADOR SIMPLES PARA LÁPIS|FORMATO RETANGULAR, COM LÂMINA DE AÇO FIXADA POR DOIS PARAFUSOS, CAIXA COM DOZE UNIDADES, SEM ONDULAÇÕES OU DEFORMAÇÕES, ALTA QUALIDADES E ANGULA, DE CORTE PRECISO|140|Caixas|4,99|\n",
      "|4|ARGOLA METÁLICA COM CORRENTE|MATERIAL QUE NÃO ENFERRUJA, PACOTE COM 100 PEÇAS, ALTA RESISTENCIA, ULTILIZADA PARA CONFECÇÃO DE CHAVEIROS ARTESANAIS|50|Pacotes|78,60|\n",
      "|5|BARBANTE 08 FIOS, 100% ALGODÃO, 200G|COR CRU, SEM IMPUREZAS NO FIO, ALTA RESISTENCIA, EMBALADOS INDIVIDUALMENTE, PACOTE EM PLÁTISCO TRANSPARENTE ULTILIZADO PARA ATIVIDADES ESCOLAR E ARTESANAL|250|Unidades|12,52|\n",
      "|6|REFIL DE SILICONE, FINO, TRANSPARENTE|PARA REVÓLVER DE COLA QUENTE, COMPOSIÇÃO: ADESIVO A BASE DE RESINAS TERMOPLASTICAS HOT MET, ESTADO FÍSICO SÓLIDO, MEDINDO APROX. 300X70MM, EMBALAGEM DE 1KG|100|Embalagens|38,30|\n",
      "\n",
      "|ITEM|PRODUTO|DESCRIÇÃO|QTD|UNIDADE|VALOR REF.|\n",
      "|---|---|---|---|---|---|\n",
      "|7|REFIL DE SILICONE GROSSO TRANSPARENTE|PARA REVOLVER DE COLA QUENTE, COMPOSIÇÃO: ADESIVO A BASE DE RESINAS TERMOPLÁSTICAS HOT MET, ESTADO FÍSICO SÓLIDO, MEDINDO APROXIMADAMENTE 300X12MM. UTILIZADO PARA ATIVIDADES ESCOLAR E ARTESANAL, EMBALAGEM DE 1KG|1000 Unidades|38,30| |\n",
      "|8|BEXIGA COLORIDA NÚMERO SETE|PACOTE COM CINQUENTA UNIDADES, LATEX DE ALTA RESISTÊNCIA, SEM DEFORMIDADES, E QUE NÃO ESTEJAM COLADAS UMA A OUTRA, EVITANDO ASSIM O ESTOURO AO ENCHER - CORES VERMELHA, AMARELA, VERDE, AZUL, BRANCA|126 Pacotes|8,62| |\n",
      "|9|PAPEL DESENHO A4|FORMATO: 210 MM X 297 MM, 140G/M², COR BRANCO, BLOCO COM 20 FOLHAS UTILIZADO PARA TRABALHOS MANUAIS, ARTÍSTICOS, GEOMÉTRICOS E IMPRESSÕES|30 Blocos|5,34| |\n",
      "|10|BORRACHA BRANCA|BORRACHA ESCOLAR, PARA APAGAR|1000 Caixas|11,26| |\n",
      "\n",
      "|ITEM|PRODUTO|DESCRIÇÃO|QTD|UNIDADE|VALOR REF.|\n",
      "|---|---|---|---|---|---|\n",
      "|11|LÁPIS E GRAFITE|LÁPIS E GRAFITE, MACIA, ATÓXICA, NÃO BORRA E NEM ESFARELA, NO FORMATO RETANGULAR, TAMANHO 40, CAIXA COM 40 UND, 32X22X08MM, COMPOSIÇÃO LÁTEX NATURAL, BORRACHA SINTÉTICA, CAIXA COM QUARENTA UNIDADES, ESTIRENO BUTADIENO, ABRASIVOS E AGENTES DE VULCANIZAÇÃO. DIMENSÕES APROXIMADAS: 32X22X08 MM (C x A x L). VALIDADE NÃO INFERIOR A 11 MESES, PRODUTO CERTIFICADO JUNTO AO INMETRO.|550|Unidades|8,04|\n",
      "|12|CADERNO PEDAGÓGICO QUADRICULADO|CADERNO PEDAGÓGICO QUADRICULADO, 10X10MM, 40 FOLHAS, FORMATO 140X200MM, MIOLO 2X2, CAPA FLEXÍVEL, GR/M² 56 MÍNIMA, COM CERTIFICAÇÃO FSC OU CELFLOR (SELO CORRESPONDENTE AO PAPEL DO MIOLO) E CERTIFICAÇÃO NBR 15733:2012 - SEGURANÇA DE ARTIGOS ESCOLARES, IMPRESSA NA PARTE EXTERNA DA CAPA OU CONTRA CAPA.|200|Pacotes|58,37|\n",
      "\n",
      "|ITEM|PRODUTO|DESCRIÇÃO|QTD|UNIDADE|VALOR REF.|\n",
      "|---|---|---|---|---|---|\n",
      "|13|CADERNO CARTOGRAFIA E DESENHO FLEXÍVEL|48 FOLHAS, FORMATO 275X200MM, GR/M² 56 MÍNIMA, COM CERTIFICAÇÃO FSC OU CELFLOR ( SELO CORRESPONDENTE AO PAPEL DO MIOLO) E CERTIFICAÇÃO NBR 15733:2012 - SEGURANÇA DE ARTIGOS ESCOLARES, IMPRESSA NA PARTE EXTERNA DA CAPA OU CONTRA CAPA.|500|Unidades|7,24|\n",
      "|14|CADERNO PEDAGÓGICO CALIGRAFIA HORIZONTAL|FORMATO 200X140 MM, MIOLO 2X2, 40 FOLHAS, CAPA FLEXÍVEL, GR/M² 56 MÍNIMA, COM CERTIFICAÇÃO FSC OU CELFLOR ( SELO CORRESPONDENTE AO PAPEL DO MIOLO) E CERTIFICAÇÃO NBR 15733:2012 - SEGURANÇA DE ARTIGOS ESCOLARES|300|Unidades|5,88|\n",
      "\n"
     ]
    }
   ],
   "source": [
    "for documento in documentos:\n",
    "    print(documento.text)\n",
    "    print()"
   ]
  },
  {
   "cell_type": "code",
   "execution_count": 38,
   "metadata": {},
   "outputs": [],
   "source": [
    "texto_exemplo = documentos[4].text"
   ]
  },
  {
   "cell_type": "code",
   "execution_count": 39,
   "metadata": {},
   "outputs": [
    {
     "name": "stdout",
     "output_type": "stream",
     "text": [
      "|ITEM|PRODUTO|DESCRIÇÃO|QTD|UNIDADE|VALOR REF.|\n",
      "|---|---|---|---|---|---|\n",
      "|13|CADERNO CARTOGRAFIA E DESENHO FLEXÍVEL|48 FOLHAS, FORMATO 275X200MM, GR/M² 56 MÍNIMA, COM CERTIFICAÇÃO FSC OU CELFLOR ( SELO CORRESPONDENTE AO PAPEL DO MIOLO) E CERTIFICAÇÃO NBR 15733:2012 - SEGURANÇA DE ARTIGOS ESCOLARES, IMPRESSA NA PARTE EXTERNA DA CAPA OU CONTRA CAPA.|500|Unidades|7,24|\n",
      "|14|CADERNO PEDAGÓGICO CALIGRAFIA HORIZONTAL|FORMATO 200X140 MM, MIOLO 2X2, 40 FOLHAS, CAPA FLEXÍVEL, GR/M² 56 MÍNIMA, COM CERTIFICAÇÃO FSC OU CELFLOR ( SELO CORRESPONDENTE AO PAPEL DO MIOLO) E CERTIFICAÇÃO NBR 15733:2012 - SEGURANÇA DE ARTIGOS ESCOLARES|300|Unidades|5,88|\n"
     ]
    }
   ],
   "source": [
    "print(texto_exemplo)"
   ]
  },
  {
   "cell_type": "code",
   "execution_count": 40,
   "metadata": {},
   "outputs": [
    {
     "data": {
      "text/plain": [
       "str"
      ]
     },
     "execution_count": 40,
     "metadata": {},
     "output_type": "execute_result"
    }
   ],
   "source": [
    "type(texto_exemplo)"
   ]
  }
 ],
 "metadata": {
  "kernelspec": {
   "display_name": "venv",
   "language": "python",
   "name": "python3"
  },
  "language_info": {
   "codemirror_mode": {
    "name": "ipython",
    "version": 3
   },
   "file_extension": ".py",
   "mimetype": "text/x-python",
   "name": "python",
   "nbconvert_exporter": "python",
   "pygments_lexer": "ipython3",
   "version": "3.10.14"
  }
 },
 "nbformat": 4,
 "nbformat_minor": 2
}
