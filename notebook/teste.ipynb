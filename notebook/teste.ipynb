{
 "cells": [
  {
   "cell_type": "code",
   "execution_count": 2,
   "metadata": {},
   "outputs": [],
   "source": [
    "import os\n",
    "from dotenv import load_dotenv\n",
    "import nest_asyncio\n",
    "nest_asyncio.apply()\n",
    "\n",
    "\n",
    "from llama_parse import LlamaParse\n",
    "load_dotenv()\n",
    "from io import StringIO"
   ]
  },
  {
   "cell_type": "code",
   "execution_count": 3,
   "metadata": {},
   "outputs": [
    {
     "name": "stdout",
     "output_type": "stream",
     "text": [
      "Started parsing the file under job_id d7b4361f-8ee6-4613-b990-dc5a0c3bdfe9\n"
     ]
    }
   ],
   "source": [
    "documentos = LlamaParse(\n",
    "    result_type='markdown',\n",
    "    parsing_instruction= \"\"\" \n",
    "    Este pdf contem tabelas com as colunas ITEM, PRODUTO, DESCRIÇÃO, QTD, UNIDADE, VALOR REF.\n",
    "    Eu gostaria de obter as tabelas, use o separador |,\n",
    "    Exemplo de como você deve separar: coluna: ITEM|PRODUTO|DESCRIÇÃO|QTD|UNIDADE|VALOR REF. Linha: 10|BORRACHA BRANCA|BORRACHA ESCOLAR, PARA APAGAR|1000| Caixas|11,26\n",
    "   \n",
    "    \n",
    "\n",
    "\"\"\" \n",
    ").load_data('../teste.pdf')"
   ]
  },
  {
   "cell_type": "code",
   "execution_count": 4,
   "metadata": {},
   "outputs": [
    {
     "name": "stdout",
     "output_type": "stream",
     "text": [
      "ínicio  do loop 0\n",
      "|ITEM|PRODUTO|DESCRIÇÃO|QTD|UNIDADE|VALOR REF.|\n",
      "0 ['1', 'APAGADOR DE MADEIRA', 'APAGADOR DE MADEIRA, 150X50MM, PINUS; MEDINDO (150 COM. X 50 LARG.) MM , COM TOLERÂNCIA +/- 10% ; COM BASE DE FELTRO; NO FORMATO RETANGULAR.', '118', 'Unidades', '3,75']\n",
      "1 ['2', 'APAGADOR PARA QUADRO BRANCO', 'APAGADOR PARA QUADRO BRANCO, 15X6CM, PLÁSTICO REFORÇADO, COM BASE EM FELTRO SUPER MACIO E RESISTENTE, FUNCIONA', '8', 'Unidades', '3,91']\n",
      "Fim do loop 0\n",
      "=======================\n",
      "ínicio  do loop 0\n",
      "0 ['3', 'APONTADOR SIMPLES PARA LÁPIS', 'FORMATO RETANGULAR, COM LÂMINA', '140', 'Caixas', '4,99']\n",
      "1 ['4', 'ARGOLA METÁLICA COM CORRENTE', 'MATERIAL QUE NÃO ENFERRUJA, PACOTE COM 100 PEÇAS', '50', 'Pacotes', '78,60']\n",
      "2 ['5', 'BARBANTE 08 FIOS, 100% ALGODÃO', '200G, COR CRU, SEM IMPUREZAS NO FIO', '250', 'Unidades', '12,52']\n",
      "3 ['6', 'REFIL DE SILICONE, FINO, TRANSPARENTE', 'PARA REVÓLVER DE COLA QUENTE, COMPOSIÇÃO: ADESIVO A BASE DE RESINAS TERMOPLASTICAS', '100', 'Embalagens', '38,30']\n",
      "Fim do loop 0\n",
      "=======================\n",
      "ínicio  do loop 0\n",
      "0 ['7', 'REFIL DE SILICONE GROSSO TRANSPARENTE', 'PARA REVOLVER DE COLA QUENTE, COMPOSIÇÃO: ADESIVO A BASE DE RESINAS TERMOPLÁSTICAS HOT MET, ESTADO FÍSICO SÓLIDO, MEDINDO APROXIMADAMENTE 300X12MM. UTILIZADO PARA ATIVIDADES ESCOLAR E ARTESANAL, EMBALAGEM DE 1KG', '1000', 'Unidades', '38,30']\n",
      "1 ['8', 'BEXIGA COLORIDA NÚMERO SETE', 'PACOTE COM CINQUENTA UNIDADES, LATEX DE ALTA RESISTENCIA, SEM DEFORMIDADES, E QUE NÃO ESTEJAM COLADAS UMA A OUTRA, EVITANDO ASSIM O ESTOURO AO ENCHER - CORES VERMELHA, AMARELA, VERDE, AZUL, BRANCA', '126', 'Pacotes', '8,62']\n",
      "2 ['9', 'PAPEL DESENHO A4', 'FORMATO: 210 MM X 297 MM, 140G/M², COR BRANCO, BLOCO COM 20 FOLHAS UTILIZADO PARA TRABALHOS MANUAIS, ARTÍSTICOS, GEOMÉTRICOS E IMPRESSÕES', '30', 'Blocos', '5,34']\n",
      "3 ['10', 'BORRACHA BRANCA', 'BORRACHA ESCOLAR, PARA APAGAR', '1000', 'Caixas', '11,26']\n",
      "Fim do loop 0\n",
      "=======================\n",
      "ínicio  do loop 0\n",
      "0 ['11', 'CADERNO PEDAGÓGICO QUADRICULADO', '10X10MM, 40 FOLHAS, FORMATO 140X200MM, MIOLO 2X2 , CAPA FLEXÍVEL, GR/M² 56MÍNIMA ,COM CERTIFICAÇÃO FSC OU CELFLOR ( SELO CORRESPONDENTE AO PAPEL DO MIOLO) E CERTIFICAÇÃO NBR 15733:2012 - SEGURANÇA DE ARTIGOS ESCOLARES, IMPRESSA NA PARTE EXTERNA DA CAPA OU CONTRA CAPA.', '550', 'Unidades', '8,04']\n",
      "1 ['12', 'CADERNO BROCHURA 1/4', 'COM PAUTA E MARGEM , 48 FOLHAS , FORMATO 140X200MM, MIOLO 2X2, CAPA FLEXÍVEL, GR/M² 56 MÍNIMA, PACOTE COM', '200', 'Pacotes', '58,37']\n",
      "Fim do loop 0\n",
      "=======================\n",
      "ínicio  do loop 0\n",
      "0 ['13', 'CADERNO CARTOGRAFIA E DESENHO', 'FLEXÍVEL, 48 FOLHAS, FORMATO 275X200MM, GR/M² 56 MÍNIMA, COM CERTIFICAÇÃO FSC OU CELFLOR ( SELO CORRESPONDENTE AO PAPEL DO MIOLO) E CERTIFICAÇÃO NBR 15733:2012 - SEGURANÇA DE ARTIGOS ESCOLARES, IMPRESSA NA PARTE EXTERNA DA CAPA OU CONTRA CAPA.', '500', 'Unidades', '7,24']\n",
      "1 ['14', 'CADERNO PEDAGÓGICO CALIGRAFIA', 'HORIZONTAL, FORMATO 200X140 MM, MIOLO 2X2, 40 FOLHAS, CAPA FLEXÍVEL, GR/M² 56 MÍNIMA, COM CERTIFICAÇÃO FSC OU CELFLOR ( SELO CORRESPONDENTE AO PAPEL DO MIOLO) E CERTIFICAÇÃO NBR 15733:2012 - SEGURANÇA DE ARTIGOS ESCOLARES', '300', 'Unidades', '5,88']\n",
      "Fim do loop 0\n",
      "=======================\n"
     ]
    }
   ],
   "source": [
    "import re\n",
    "for chave, tabela in enumerate(documentos):\n",
    "    print(f'ínicio  do loop {0}')\n",
    "\n",
    "\n",
    "    resultado = re.sub(r'\\|\\-\\-\\-.*\\|\\n', '', tabela.text)\n",
    "\n",
    "    linhas = resultado.split('\\n')\n",
    "\n",
    "    \n",
    "    linhas_tabela = linhas[1:]\n",
    "\n",
    "    if chave == 0:\n",
    "        cabecalho = linhas[0].strip('|').strip('.').split('|')\n",
    "        print(cabecalho)\n",
    "       \n",
    "  \n",
    "\n",
    "\n",
    "    for chave, linha in enumerate(linhas_tabela):\n",
    "\n",
    "        linha_tabela = linha.strip('|').split('|')\n",
    "        print(chave, linha_tabela)\n",
    "\n",
    "  \n",
    "\n",
    "\n",
    "    print(f'Fim do loop {0}')\n",
    "    print('=' * 23)\n",
    "     "
   ]
  },
  {
   "cell_type": "code",
   "execution_count": null,
   "metadata": {},
   "outputs": [],
   "source": []
  }
 ],
 "metadata": {
  "kernelspec": {
   "display_name": "venv",
   "language": "python",
   "name": "python3"
  },
  "language_info": {
   "codemirror_mode": {
    "name": "ipython",
    "version": 3
   },
   "file_extension": ".py",
   "mimetype": "text/x-python",
   "name": "python",
   "nbconvert_exporter": "python",
   "pygments_lexer": "ipython3",
   "version": "3.10.14"
  }
 },
 "nbformat": 4,
 "nbformat_minor": 2
}
