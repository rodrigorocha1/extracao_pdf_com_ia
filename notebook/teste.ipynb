{
 "cells": [
  {
   "cell_type": "code",
   "execution_count": 246,
   "metadata": {},
   "outputs": [],
   "source": [
    "import os\n",
    "from dotenv import load_dotenv\n",
    "import nest_asyncio\n",
    "nest_asyncio.apply()\n",
    "\n",
    "from llama_parse import LlamaParse\n",
    "load_dotenv()\n",
    "from io import StringIO"
   ]
  },
  {
   "cell_type": "code",
   "execution_count": 256,
   "metadata": {},
   "outputs": [
    {
     "name": "stdout",
     "output_type": "stream",
     "text": [
      "Started parsing the file under job_id 9f87f60b-aaee-444c-b9e8-6da073e6c99c\n"
     ]
    }
   ],
   "source": [
    "documentos = LlamaParse(\n",
    "    result_type='markdown',\n",
    "    parsing_instruction= \"\"\" \n",
    "    Este pdf contem tabelas com as colunas ITEM, PRODUTO, DESCRIÇÃO, QTD, UNIDADE, VALOR REF.\n",
    "    Eu gostaria de obter as tabelas, use o separador |, exiba a tabela nesse formato ITEM|PRODUTO|DESCRIÇÃO|QTD|UNIDADE \n",
    "\"\"\" \n",
    ").load_data('../teste.pdf')"
   ]
  },
  {
   "cell_type": "code",
   "execution_count": 257,
   "metadata": {},
   "outputs": [
    {
     "data": {
      "text/plain": [
       "list"
      ]
     },
     "execution_count": 257,
     "metadata": {},
     "output_type": "execute_result"
    }
   ],
   "source": [
    "type(documentos)"
   ]
  },
  {
   "cell_type": "code",
   "execution_count": 258,
   "metadata": {},
   "outputs": [
    {
     "data": {
      "text/plain": [
       "'|ITEM|PRODUTO|DESCRIÇÃO|QTD|UNIDADE|\\n|---|---|---|---|---|\\n|1|APAGADOR DE MADEIRA|APAGADOR DE MADEIRA, 150X50MM, PINUS; MEDINDO (150 COM. X 50 LARG.) MM , COM TOLERÂNCIA +/- 10% ; COM BASE DE FELTRO; NO FORMATO RETANGULAR.|118|Unidades|\\n|2|APAGADOR PARA QUADRO BRANCO|APAGADOR PARA QUADRO BRANCO, 15X6CM, PLÁSTICO REFORÇADO, COM BASE EM FELTRO SUPER MACIO E RESISTENTE, FUNCIONA|8|Unidades|'"
      ]
     },
     "execution_count": 258,
     "metadata": {},
     "output_type": "execute_result"
    }
   ],
   "source": [
    "documentos[0].text"
   ]
  },
  {
   "cell_type": "code",
   "execution_count": 249,
   "metadata": {},
   "outputs": [
    {
     "name": "stdout",
     "output_type": "stream",
     "text": [
      "5\n"
     ]
    },
    {
     "data": {
      "text/plain": [
       "'|ITEM|PRODUTO|DESCRIÇÃO|QTD|UNIDADE|\\n|---|---|---|---|---|\\n|3|APONTADOR SIMPLES PARA LÁPIS|RETANGULAR, CAIXA COM 12 UNIDADES, SEM ONDULAÇÕES OU DEFORMAÇÕES, ALTA QUALIDADES E ANGULA, DE CORTE PRECISO|140|Caixas|\\n|4|ARGOLA METÁLICA COM CORRENTE|MATERIAL QUE NÃO ENFERRUJA, PACOTE COM 100 PEÇAS, ALTA RESISTENCIA, ULTILIZADA PARA CONFECÇÃO DE CHAVEIROS ARTESANAIS|50|Pacotes|\\n|5|BARBANTE 08 FIOS, 100% ALGODÃO, 200G|COR CRU, SEM IMPUREZAS NO FIO, ALTA RESISTENCIA, EMBALADOS INDIVIDUALMENTE, PACOTE EM PLÁSTICO TRANSPARENTE ULTILIZADO PARA ATIVIDADES ESCOLAR E ARTESANAL|250|Unidades|\\n|6|REFIL DE SILICONE, FINO, TRANSPARENTE, PARA REVOLVER DE COLA QUENTE|APROX. 300X70MM, EMBALAGEM DE 1KG|100|Embalagens|'"
      ]
     },
     "execution_count": 249,
     "metadata": {},
     "output_type": "execute_result"
    }
   ],
   "source": [
    "print(len(documentos))\n",
    "dicionario = documentos[1]\n",
    "dicionario.get_text()"
   ]
  },
  {
   "cell_type": "code",
   "execution_count": 250,
   "metadata": {},
   "outputs": [
    {
     "data": {
      "text/plain": [
       "Document(id_='0634156d-552b-4435-bd41-f5995bbd4233', embedding=None, metadata={'filename': 'README.md', 'category': 'codebase'}, excluded_embed_metadata_keys=[], excluded_llm_metadata_keys=[], relationships={}, text='\\nContext\\nLLMs are a phenomenal piece of technology for knowledge generation and reasoning.\\nThey are pre-trained on large amounts of publicly available data.\\nHow do we best augment LLMs with our own private data?\\nWe need a comprehensive toolkit to help perform this data augmentation for LLMs.\\n\\nProposed Solution\\nThat\\'s where LlamaIndex comes in. LlamaIndex is a \"data framework\" to help\\nyou build LLM  apps. It provides the following tools:\\n\\nOffers data connectors to ingest your existing data sources and data formats\\n(APIs, PDFs, docs, SQL, etc.)\\nProvides ways to structure your data (indices, graphs) so that this data can be\\neasily used with LLMs.\\nProvides an advanced retrieval/query interface over your data:\\nFeed in any LLM input prompt, get back retrieved context and knowledge-augmented output.\\nAllows easy integrations with your outer application framework\\n(e.g. with LangChain, Flask, Docker, ChatGPT, anything else).\\nLlamaIndex provides tools for both beginner users and advanced users.\\nOur high-level API allows beginner users to use LlamaIndex to ingest and\\nquery their data in 5 lines of code. Our lower-level APIs allow advanced users to\\ncustomize and extend any module (data connectors, indices, retrievers, query engines,\\nreranking modules), to fit their needs.\\n', mimetype='text/plain', start_char_idx=None, end_char_idx=None, text_template='{metadata_str}\\n\\n{content}', metadata_template='{key}: {value}', metadata_seperator='\\n')"
      ]
     },
     "execution_count": 250,
     "metadata": {},
     "output_type": "execute_result"
    }
   ],
   "source": [
    "dicionario.example()"
   ]
  },
  {
   "cell_type": "code",
   "execution_count": 262,
   "metadata": {},
   "outputs": [
    {
     "name": "stdout",
     "output_type": "stream",
     "text": [
      "58.9 μs ± 1.19 μs per loop (mean ± std. dev. of 7 runs, 10,000 loops each)\n"
     ]
    }
   ],
   "source": [
    "%%timeit\n",
    "\n",
    "\n",
    "import re\n",
    "\n",
    "for chave, tabela in enumerate(documentos):\n",
    "    texto_sem_separadores_orig = re.sub(\n",
    "        r'^\\|---\\|---\\|---\\|---\\|---\\|---\\|\\s*\\n?', '', tabela.text, flags=re.MULTILINE)\n",
    "    texto_sem_separadores = texto_sem_separadores_orig.split('\\n')\n",
    "    colunas = [ [item for item in coluna.split('|') if item.strip()] for coluna in texto_sem_separadores]\n",
    "    cabecalho, *linhas = colunas\n",
    "    \n",
    "    for linha in linhas:\n",
    "        pass\n",
    "\n"
   ]
  },
  {
   "cell_type": "code",
   "execution_count": 259,
   "metadata": {},
   "outputs": [
    {
     "name": "stdout",
     "output_type": "stream",
     "text": [
      "[1, 2] [3, 4]\n"
     ]
    }
   ],
   "source": [
    "from openpyxl import Workbook\n",
    "\n",
    "# Dados a serem escritos na planilha\n",
    "data = [[1, 2], [3, 4]]\n",
    "\n",
    "# Cria um novo Workbook e seleciona a planilha ativa\n",
    "wb = Workbook()\n",
    "ws = wb.active\n",
    "\n",
    "print(*data)"
   ]
  }
 ],
 "metadata": {
  "kernelspec": {
   "display_name": "venv",
   "language": "python",
   "name": "python3"
  },
  "language_info": {
   "codemirror_mode": {
    "name": "ipython",
    "version": 3
   },
   "file_extension": ".py",
   "mimetype": "text/x-python",
   "name": "python",
   "nbconvert_exporter": "python",
   "pygments_lexer": "ipython3",
   "version": "3.10.14"
  }
 },
 "nbformat": 4,
 "nbformat_minor": 2
}
